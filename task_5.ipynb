{
  "nbformat": 4,
  "nbformat_minor": 0,
  "metadata": {
    "colab": {
      "name": "task_5.ipynb",
      "provenance": [],
      "collapsed_sections": [],
      "authorship_tag": "ABX9TyOqamqlG1IKTgSSVIN5nA/I",
      "include_colab_link": true
    },
    "kernelspec": {
      "name": "python3",
      "display_name": "Python 3"
    }
  },
  "cells": [
    {
      "cell_type": "markdown",
      "metadata": {
        "id": "view-in-github",
        "colab_type": "text"
      },
      "source": [
        "<a href=\"https://colab.research.google.com/github/orenshor/eCommerce_project/blob/master/task_5.ipynb\" target=\"_parent\"><img src=\"https://colab.research.google.com/assets/colab-badge.svg\" alt=\"Open In Colab\"/></a>"
      ]
    },
    {
      "cell_type": "code",
      "metadata": {
        "id": "rj_Lw7RdBYuv",
        "colab_type": "code",
        "colab": {}
      },
      "source": [
        "import numpy as np\n",
        "import pandas as pd\n",
        "from keras.models import Model\n",
        "from keras.layers import Embedding, Input, Dense, Flatten, Dropout\n",
        "from keras.optimizers import Adam, Adamax\n",
        "from keras.layers import Concatenate\n",
        "from keras.callbacks import EarlyStopping, ModelCheckpoint\n",
        "import matplotlib.pyplot as plt"
      ],
      "execution_count": 0,
      "outputs": []
    },
    {
      "cell_type": "code",
      "metadata": {
        "id": "punEIpwMBvi6",
        "colab_type": "code",
        "colab": {}
      },
      "source": [
        "RATING_DATA_TEST_FILE = \"u1.test\"\n",
        "RATING_DATA_TRAIN_FILE = \"u1.base\"\n",
        "MODEL_WEIGHTS_FILE = \"u_emb_weights.h5\"\n",
        "\n",
        "USER_DATA_FILE = 'u.user'\n",
        "MODEL_WEIGHTS_FILE_CORE = 'u_emb_weights'"
      ],
      "execution_count": 0,
      "outputs": []
    },
    {
      "cell_type": "code",
      "metadata": {
        "id": "c5c3__4pCz1K",
        "colab_type": "code",
        "colab": {}
      },
      "source": [
        "#import of the data\n",
        "\n",
        "user_cols = ['user_id', 'age', 'gender', 'occupation', 'zip_code']\n",
        "movie_cols = ['user_id','movie_id','rating','timestamp']\n",
        "\n",
        "# load users data\n",
        "user_data = pd.read_csv(USER_DATA_FILE, sep='|', engine='python', encoding='latin-1', names=user_cols)\n",
        "\n",
        "# replace values in the data\n",
        "user_data['gender'].replace(['F','M'],['0','1'],inplace=True)\n",
        "user_data['age'] = pd.cut(user_data['age'],bins=[0,18,25,30,40,50,100], labels=[\"0\",\"1\",\"2\",\"3\",\"4\",\"5\"])\n",
        "\n",
        "# load movies data\n",
        "ratings_train = pd.read_csv(RATING_DATA_TRAIN_FILE, sep='\\t', engine='python', encoding='latin-1', names=movie_cols)\n",
        "\n",
        "# marge users info and ratings \n",
        "ratings_train = pd.merge(ratings_train, user_data, on='user_id',how='inner')\n",
        "print(ratings_train.head())\n",
        "# train\n",
        "max_userid = ratings_train['user_id'].drop_duplicates().max()\n",
        "max_movieid = ratings_train['movie_id'].drop_duplicates().max()\n",
        "ratings_train['user_emb_id'] = ratings_train['user_id'] - 1\n",
        "ratings_train['movie_emb_id'] = ratings_train['movie_id'] - 1\n",
        "print(str(len(ratings_train))+' ratings loaded from train')\n",
        "\n",
        "# test\n",
        "ratings_test = pd.read_csv(RATING_DATA_TEST_FILE, sep='\\t',   engine='python', encoding='latin-1',  names=movie_cols)\n",
        "ratings_test = pd.merge(ratings_test, user_data, on='user_id', how='inner')\n",
        "print(ratings_test.head())\n",
        "ratings_test['user_emb_id'] = ratings_test['user_id'] - 1\n",
        "ratings_test['movie_emb_id'] = ratings_test['movie_id'] - 1\n",
        "print(str(len(ratings_test))+' ratings loaded from test')\n",
        "\n"
      ],
      "execution_count": 0,
      "outputs": []
    },
    {
      "cell_type": "code",
      "metadata": {
        "id": "UwdPQXcMN6PE",
        "colab_type": "code",
        "colab": {}
      },
      "source": [
        "# train values\n",
        "train_users = ratings_train['user_emb_id'].values\n",
        "train_movies = ratings_train['movie_emb_id'].values\n",
        "train_ratings = ratings_train['rating'].values\n",
        "train_gender = ratings_train['gender'].values\n",
        "train_age = ratings_train['age'].values\n",
        "\n",
        "Test_Users = ratings_test['user_emb_id'].values\n",
        "Test_Movies = ratings_test['movie_emb_id'].values\n",
        "Test_Ratings = ratings_test['rating'].values"
      ],
      "execution_count": 0,
      "outputs": []
    },
    {
      "cell_type": "code",
      "metadata": {
        "id": "DdEgcipNJD73",
        "colab_type": "code",
        "colab": {}
      },
      "source": [
        "# model from ex. 4 with adjustments\n",
        "def get_ncf_model_gen1(num_users, num_items, latent_dim, hidden_dim,do):\n",
        "    # Input variables\n",
        "    user_input = Input(shape=(1,), dtype='int32', name = 'user_input')\n",
        "    item_input = Input(shape=(1,), dtype='int32', name = 'item_input')\n",
        "    gender_input = Input(shape=(1,), dtype='float32', name = 'gender_input')\n",
        "    age_input = Input(shape=(1,), dtype='float32', name = 'age_input')\n",
        "\n",
        "    NCF_Embedding_User = Embedding(input_dim = num_users, output_dim = latent_dim, name = 'user_embedding', input_length=1)\n",
        "    NCF_Embedding_Item = Embedding(input_dim = num_items, output_dim = latent_dim, name = 'item_embedding', input_length=1)   \n",
        "    \n",
        "    # Crucial to flatten an embedding vector!\n",
        "    user_latent = Flatten()(NCF_Embedding_User(user_input))\n",
        "    item_latent = Flatten()(NCF_Embedding_Item(item_input))\n",
        "    \n",
        "    # Concat user and item embeddings with gender\n",
        "    conc = Concatenate()([user_latent, item_latent, gender_input, age_input])\n",
        "    drop = Dropout(do)(conc)\n",
        "    hid1 = Dense(hidden_dim, activation='relu')(conc)\n",
        "    drop2  = Dropout(do)(hid1)\n",
        "    prediction = Dense(1, activation='relu', kernel_initializer='lecun_uniform', name = 'prediction')(drop2)\n",
        "    \n",
        "    model = Model(inputs=[user_input, item_input, gender_input, age_input], outputs=prediction)\n",
        "    print(\"ncf model gender 1\")\n",
        "    model.summary()\n",
        "\n",
        "    return model"
      ],
      "execution_count": 0,
      "outputs": []
    },
    {
      "cell_type": "code",
      "metadata": {
        "id": "w8Lxo5rCJ1VU",
        "colab_type": "code",
        "colab": {}
      },
      "source": [
        "K_LATENT = 20\n",
        "hidden_dim = 20\n",
        "do = 0.3\n",
        "\n",
        "NCF_G_model1 = get_ncf_model_gen1(max_userid, max_movieid, K_LATENT,hidden_dim, do)\n",
        "NCF_G_model1.compile(loss='mse',optimizer=Adamax(),metrics=['mae'])"
      ],
      "execution_count": 0,
      "outputs": []
    },
    {
      "cell_type": "code",
      "metadata": {
        "id": "Wyk_MaFSL9Bk",
        "colab_type": "code",
        "colab": {
          "base_uri": "https://localhost:8080/",
          "height": 816
        },
        "outputId": "d1a6d963-bf8d-4989-bb1d-b8ca094de25d"
      },
      "source": [
        "callbacks_ncfg1 = [EarlyStopping('val_loss', patience=20), \n",
        "             ModelCheckpoint(MODEL_WEIGHTS_FILE_CORE + '_ncfg_' + str(do) + '_' + str(K_LATENT) + '.h5', save_best_only=True)]\n",
        "history_history_ncfg1 = NCF_G_model1.fit([train_users, train_movies, train_gender, train_age], train_ratings, epochs=100, validation_split=.1, verbose=1, callbacks=callbacks_ncfg1, batch_size = 32)"
      ],
      "execution_count": 99,
      "outputs": [
        {
          "output_type": "stream",
          "text": [
            "Train on 72000 samples, validate on 8000 samples\n",
            "Epoch 1/100\n",
            "72000/72000 [==============================] - 4s 53us/step - loss: 0.8743 - mae: 0.7386 - val_loss: 1.0509 - val_mae: 0.8358\n",
            "Epoch 2/100\n",
            "72000/72000 [==============================] - 4s 50us/step - loss: 0.8632 - mae: 0.7327 - val_loss: 1.0419 - val_mae: 0.8335\n",
            "Epoch 3/100\n",
            "72000/72000 [==============================] - 4s 50us/step - loss: 0.8567 - mae: 0.7296 - val_loss: 1.0272 - val_mae: 0.8196\n",
            "Epoch 4/100\n",
            "72000/72000 [==============================] - 4s 51us/step - loss: 0.8542 - mae: 0.7289 - val_loss: 1.0326 - val_mae: 0.8298\n",
            "Epoch 5/100\n",
            "72000/72000 [==============================] - 4s 52us/step - loss: 0.8464 - mae: 0.7246 - val_loss: 1.0583 - val_mae: 0.8444\n",
            "Epoch 6/100\n",
            "72000/72000 [==============================] - 4s 52us/step - loss: 0.8445 - mae: 0.7236 - val_loss: 1.0335 - val_mae: 0.8305\n",
            "Epoch 7/100\n",
            "72000/72000 [==============================] - 4s 61us/step - loss: 0.8411 - mae: 0.7222 - val_loss: 1.0344 - val_mae: 0.8274\n",
            "Epoch 8/100\n",
            "72000/72000 [==============================] - 6s 78us/step - loss: 0.8387 - mae: 0.7207 - val_loss: 1.0465 - val_mae: 0.8377\n",
            "Epoch 9/100\n",
            "72000/72000 [==============================] - 5s 70us/step - loss: 0.8358 - mae: 0.7194 - val_loss: 1.0556 - val_mae: 0.8448\n",
            "Epoch 10/100\n",
            "72000/72000 [==============================] - 4s 50us/step - loss: 0.8359 - mae: 0.7194 - val_loss: 1.0502 - val_mae: 0.8430\n",
            "Epoch 11/100\n",
            "72000/72000 [==============================] - 4s 50us/step - loss: 0.8321 - mae: 0.7176 - val_loss: 1.0714 - val_mae: 0.8551\n",
            "Epoch 12/100\n",
            "72000/72000 [==============================] - 4s 50us/step - loss: 0.8317 - mae: 0.7174 - val_loss: 1.0739 - val_mae: 0.8533\n",
            "Epoch 13/100\n",
            "72000/72000 [==============================] - 4s 50us/step - loss: 0.8287 - mae: 0.7161 - val_loss: 1.0422 - val_mae: 0.8384\n",
            "Epoch 14/100\n",
            "72000/72000 [==============================] - 4s 50us/step - loss: 0.8273 - mae: 0.7153 - val_loss: 1.0612 - val_mae: 0.8480\n",
            "Epoch 15/100\n",
            "72000/72000 [==============================] - 4s 50us/step - loss: 0.8279 - mae: 0.7153 - val_loss: 1.0656 - val_mae: 0.8501\n",
            "Epoch 16/100\n",
            "72000/72000 [==============================] - 4s 50us/step - loss: 0.8269 - mae: 0.7149 - val_loss: 1.0724 - val_mae: 0.8563\n",
            "Epoch 17/100\n",
            "72000/72000 [==============================] - 4s 50us/step - loss: 0.8256 - mae: 0.7135 - val_loss: 1.0638 - val_mae: 0.8484\n",
            "Epoch 18/100\n",
            "72000/72000 [==============================] - 4s 49us/step - loss: 0.8223 - mae: 0.7125 - val_loss: 1.0748 - val_mae: 0.8567\n",
            "Epoch 19/100\n",
            "72000/72000 [==============================] - 4s 49us/step - loss: 0.8217 - mae: 0.7113 - val_loss: 1.0765 - val_mae: 0.8574\n",
            "Epoch 20/100\n",
            "72000/72000 [==============================] - 4s 50us/step - loss: 0.8200 - mae: 0.7117 - val_loss: 1.0796 - val_mae: 0.8587\n",
            "Epoch 21/100\n",
            "72000/72000 [==============================] - 4s 49us/step - loss: 0.8188 - mae: 0.7104 - val_loss: 1.0718 - val_mae: 0.8548\n",
            "Epoch 22/100\n",
            "72000/72000 [==============================] - 4s 49us/step - loss: 0.8181 - mae: 0.7103 - val_loss: 1.0878 - val_mae: 0.8633\n",
            "Epoch 23/100\n",
            "72000/72000 [==============================] - 4s 50us/step - loss: 0.8152 - mae: 0.7091 - val_loss: 1.0884 - val_mae: 0.8625\n"
          ],
          "name": "stdout"
        }
      ]
    },
    {
      "cell_type": "code",
      "metadata": {
        "id": "IyB9Kn65Nyjz",
        "colab_type": "code",
        "colab": {
          "base_uri": "https://localhost:8080/",
          "height": 34
        },
        "outputId": "602e97da-a93c-443d-bd02-9ab982fbb3ae"
      },
      "source": [
        "# test values\n",
        "test_users = ratings_test['user_emb_id'].values\n",
        "test_movies = ratings_test['movie_emb_id'].values\n",
        "test_ratings = ratings_test['rating'].values\n",
        "test_gender = ratings_test['gender'].values\n",
        "test_age = ratings_test['age'].values\n",
        "\n",
        "preddict_model_gen1 = NCF_G_model1.predict([test_users,test_movies, test_gender, test_age])\n",
        "test_predict1 = pd.DataFrame(data=preddict_model_gen1, columns=['prediction'])\n",
        "test_predict1['actual_rating'] = test_ratings\n",
        "\n",
        "MAE1 = np.sum(abs(test_predict1['actual_rating']-test_predict1['prediction']))/test_predict1.shape[0]\n",
        "print(\"MAE = \"+ str(MAE1))"
      ],
      "execution_count": 100,
      "outputs": [
        {
          "output_type": "stream",
          "text": [
            "MAE = 0.84877578125\n"
          ],
          "name": "stdout"
        }
      ]
    },
    {
      "cell_type": "code",
      "metadata": {
        "id": "JH43WLTjalnH",
        "colab_type": "code",
        "colab": {}
      },
      "source": [
        "pip install deepctr[cpu]"
      ],
      "execution_count": 0,
      "outputs": []
    },
    {
      "cell_type": "code",
      "metadata": {
        "id": "mKP9g9BFaSxL",
        "colab_type": "code",
        "colab": {}
      },
      "source": [
        "from deepctr.models import DeepFM\n",
        "from deepctr.inputs import SparseFeat, get_feature_names\n",
        "from sklearn.preprocessing import LabelEncoder"
      ],
      "execution_count": 0,
      "outputs": []
    },
    {
      "cell_type": "code",
      "metadata": {
        "id": "1OYVT8ohat2r",
        "colab_type": "code",
        "colab": {
          "base_uri": "https://localhost:8080/",
          "height": 1000
        },
        "outputId": "c8d0b76e-47d1-4703-c1fb-c494ae34606c"
      },
      "source": [
        "for feat in ['user_emb_id','movie_emb_id', 'gender', 'age']:\n",
        "        lbe = LabelEncoder()\n",
        "        ratings_train[feat] = lbe.fit_transform(ratings_train[feat])\n",
        "\n",
        "\n",
        "for feat in ['user_emb_id','movie_emb_id', 'gender', 'age']:\n",
        "        lbe = LabelEncoder()\n",
        "        ratings_test[feat] = lbe.fit_transform(ratings_test[feat])\n",
        "\n",
        "\n",
        "fixlen_feature_columns = [SparseFeat(feat, ratings_train[feat].nunique(), embedding_dim=20)\n",
        "                              for feat in ['user_emb_id','movie_emb_id', 'gender', 'age']]\n",
        "linear_feature_columns = fixlen_feature_columns\n",
        "dnn_feature_columns = fixlen_feature_columns\n",
        "feature_names = get_feature_names(linear_feature_columns + dnn_feature_columns)\n",
        "print(feature_names)\n",
        "\n",
        "\n",
        "model_deepFM = DeepFM(linear_feature_columns, dnn_feature_columns, task='regression')\n",
        "model_deepFM.compile(\"adam\", \"mse\", metrics=['mae'])\n",
        "\n",
        "train_model_deepFM_input = {name: ratings_train[name].values for name in feature_names}\n",
        "\n",
        "test_model_deepFM_input = {name: ratings_test[name].values for name in feature_names}\n",
        "\n",
        "history = model_deepFM.fit(train_model_deepFM_input, train_ratings, epochs=100,  verbose=1, validation_split=0.1)\n",
        "\n",
        "pred_deepFM = model_deepFM.predict(test_model_deepFM_input)\n",
        "test_predict_deepFM = pd.DataFrame(data=pred_deepFM, columns=['prediction'])\n",
        "test_predict_deepFM['actual_rating'] = test_ratings\n",
        "MAE_deepFM = np.sum(abs(test_predict_deepFM['actual_rating']-test_predict_deepFM['prediction']))/test_predict_deepFM.shape[0]\n",
        "print()\n",
        "print(\"MAE deepFM = \" + str(MAE_deepFM))"
      ],
      "execution_count": 102,
      "outputs": [
        {
          "output_type": "stream",
          "text": [
            "['user_emb_id', 'movie_emb_id', 'gender', 'age']\n",
            "Epoch 1/100\n"
          ],
          "name": "stdout"
        },
        {
          "output_type": "stream",
          "text": [
            "/usr/local/lib/python3.6/dist-packages/tensorflow/python/framework/indexed_slices.py:434: UserWarning: Converting sparse IndexedSlices to a dense Tensor of unknown shape. This may consume a large amount of memory.\n",
            "  \"Converting sparse IndexedSlices to a dense Tensor of unknown shape. \"\n"
          ],
          "name": "stderr"
        },
        {
          "output_type": "stream",
          "text": [
            "2250/2250 [==============================] - 7s 3ms/step - loss: 1.0290 - mae: 0.8008 - val_loss: 1.0336 - val_mae: 0.8355\n",
            "Epoch 2/100\n",
            "2250/2250 [==============================] - 6s 3ms/step - loss: 0.8843 - mae: 0.7434 - val_loss: 1.0127 - val_mae: 0.8147\n",
            "Epoch 3/100\n",
            "2250/2250 [==============================] - 7s 3ms/step - loss: 0.8518 - mae: 0.7280 - val_loss: 0.9665 - val_mae: 0.7861\n",
            "Epoch 4/100\n",
            "2250/2250 [==============================] - 6s 3ms/step - loss: 0.8220 - mae: 0.7125 - val_loss: 0.9953 - val_mae: 0.8049\n",
            "Epoch 5/100\n",
            "2250/2250 [==============================] - 6s 3ms/step - loss: 0.7904 - mae: 0.6966 - val_loss: 1.0197 - val_mae: 0.8168\n",
            "Epoch 6/100\n",
            "2250/2250 [==============================] - 7s 3ms/step - loss: 0.7599 - mae: 0.6810 - val_loss: 0.9753 - val_mae: 0.7871\n",
            "Epoch 7/100\n",
            "2250/2250 [==============================] - 6s 3ms/step - loss: 0.7287 - mae: 0.6650 - val_loss: 0.9899 - val_mae: 0.7993\n",
            "Epoch 8/100\n",
            "2250/2250 [==============================] - 6s 3ms/step - loss: 0.6944 - mae: 0.6466 - val_loss: 0.9880 - val_mae: 0.7951\n",
            "Epoch 9/100\n",
            "2250/2250 [==============================] - 6s 3ms/step - loss: 0.6612 - mae: 0.6296 - val_loss: 0.9985 - val_mae: 0.8022\n",
            "Epoch 10/100\n",
            "2250/2250 [==============================] - 6s 3ms/step - loss: 0.6297 - mae: 0.6130 - val_loss: 1.0393 - val_mae: 0.8251\n",
            "Epoch 11/100\n",
            "2250/2250 [==============================] - 6s 3ms/step - loss: 0.6001 - mae: 0.5966 - val_loss: 1.0388 - val_mae: 0.8234\n",
            "Epoch 12/100\n",
            "2250/2250 [==============================] - 6s 3ms/step - loss: 0.5730 - mae: 0.5817 - val_loss: 1.0314 - val_mae: 0.8192\n",
            "Epoch 13/100\n",
            "2250/2250 [==============================] - 6s 3ms/step - loss: 0.5463 - mae: 0.5669 - val_loss: 1.0355 - val_mae: 0.8155\n",
            "Epoch 14/100\n",
            "2250/2250 [==============================] - 6s 3ms/step - loss: 0.5220 - mae: 0.5530 - val_loss: 1.0937 - val_mae: 0.8379\n",
            "Epoch 15/100\n",
            "2250/2250 [==============================] - 7s 3ms/step - loss: 0.4978 - mae: 0.5389 - val_loss: 1.1158 - val_mae: 0.8543\n",
            "Epoch 16/100\n",
            "2250/2250 [==============================] - 7s 3ms/step - loss: 0.4783 - mae: 0.5272 - val_loss: 1.0848 - val_mae: 0.8359\n",
            "Epoch 17/100\n",
            "2250/2250 [==============================] - 7s 3ms/step - loss: 0.4590 - mae: 0.5157 - val_loss: 1.0883 - val_mae: 0.8354\n",
            "Epoch 18/100\n",
            "2250/2250 [==============================] - 6s 3ms/step - loss: 0.4406 - mae: 0.5042 - val_loss: 1.1550 - val_mae: 0.8668\n",
            "Epoch 19/100\n",
            "2250/2250 [==============================] - 6s 3ms/step - loss: 0.4264 - mae: 0.4946 - val_loss: 1.1040 - val_mae: 0.8437\n",
            "Epoch 20/100\n",
            "2250/2250 [==============================] - 6s 3ms/step - loss: 0.4112 - mae: 0.4855 - val_loss: 1.1995 - val_mae: 0.8827\n",
            "Epoch 21/100\n",
            "2250/2250 [==============================] - 6s 3ms/step - loss: 0.3985 - mae: 0.4770 - val_loss: 1.1760 - val_mae: 0.8714\n",
            "Epoch 22/100\n",
            "2250/2250 [==============================] - 6s 3ms/step - loss: 0.3862 - mae: 0.4690 - val_loss: 1.2240 - val_mae: 0.8884\n",
            "Epoch 23/100\n",
            "2250/2250 [==============================] - 6s 3ms/step - loss: 0.3735 - mae: 0.4598 - val_loss: 1.1812 - val_mae: 0.8721\n",
            "Epoch 24/100\n",
            "2250/2250 [==============================] - 6s 3ms/step - loss: 0.3651 - mae: 0.4544 - val_loss: 1.1513 - val_mae: 0.8567\n",
            "Epoch 25/100\n",
            "2250/2250 [==============================] - 6s 3ms/step - loss: 0.3544 - mae: 0.4475 - val_loss: 1.2012 - val_mae: 0.8797\n",
            "Epoch 26/100\n",
            "2250/2250 [==============================] - 6s 3ms/step - loss: 0.3457 - mae: 0.4406 - val_loss: 1.2385 - val_mae: 0.8957\n",
            "Epoch 27/100\n",
            "2250/2250 [==============================] - 6s 3ms/step - loss: 0.3364 - mae: 0.4336 - val_loss: 1.1859 - val_mae: 0.8688\n",
            "Epoch 28/100\n",
            "2250/2250 [==============================] - 6s 3ms/step - loss: 0.3300 - mae: 0.4293 - val_loss: 1.2136 - val_mae: 0.8806\n",
            "Epoch 29/100\n",
            "2250/2250 [==============================] - 6s 3ms/step - loss: 0.3223 - mae: 0.4240 - val_loss: 1.2343 - val_mae: 0.8873\n",
            "Epoch 30/100\n",
            "2250/2250 [==============================] - 6s 3ms/step - loss: 0.3153 - mae: 0.4190 - val_loss: 1.2073 - val_mae: 0.8767\n",
            "Epoch 31/100\n",
            "2250/2250 [==============================] - 6s 3ms/step - loss: 0.3090 - mae: 0.4136 - val_loss: 1.2570 - val_mae: 0.8987\n",
            "Epoch 32/100\n",
            "2250/2250 [==============================] - 6s 3ms/step - loss: 0.3029 - mae: 0.4093 - val_loss: 1.1862 - val_mae: 0.8657\n",
            "Epoch 33/100\n",
            "2250/2250 [==============================] - 6s 3ms/step - loss: 0.2975 - mae: 0.4048 - val_loss: 1.2143 - val_mae: 0.8776\n",
            "Epoch 34/100\n",
            "2250/2250 [==============================] - 6s 3ms/step - loss: 0.2921 - mae: 0.4012 - val_loss: 1.2324 - val_mae: 0.8870\n",
            "Epoch 35/100\n",
            "2250/2250 [==============================] - 6s 3ms/step - loss: 0.2870 - mae: 0.3965 - val_loss: 1.2110 - val_mae: 0.8787\n",
            "Epoch 36/100\n",
            "2250/2250 [==============================] - 6s 3ms/step - loss: 0.2825 - mae: 0.3944 - val_loss: 1.2508 - val_mae: 0.8903\n",
            "Epoch 37/100\n",
            "2250/2250 [==============================] - 6s 3ms/step - loss: 0.2778 - mae: 0.3891 - val_loss: 1.1857 - val_mae: 0.8665\n",
            "Epoch 38/100\n",
            "2250/2250 [==============================] - 7s 3ms/step - loss: 0.2739 - mae: 0.3863 - val_loss: 1.2512 - val_mae: 0.8914\n",
            "Epoch 39/100\n",
            "2250/2250 [==============================] - 6s 3ms/step - loss: 0.2680 - mae: 0.3814 - val_loss: 1.2485 - val_mae: 0.8917\n",
            "Epoch 40/100\n",
            "2250/2250 [==============================] - 6s 3ms/step - loss: 0.2644 - mae: 0.3778 - val_loss: 1.2900 - val_mae: 0.9077\n",
            "Epoch 41/100\n",
            "2250/2250 [==============================] - 6s 3ms/step - loss: 0.2615 - mae: 0.3754 - val_loss: 1.2402 - val_mae: 0.8893\n",
            "Epoch 42/100\n",
            "2250/2250 [==============================] - 7s 3ms/step - loss: 0.2573 - mae: 0.3724 - val_loss: 1.2377 - val_mae: 0.8835\n",
            "Epoch 43/100\n",
            "2250/2250 [==============================] - 6s 3ms/step - loss: 0.2552 - mae: 0.3700 - val_loss: 1.2862 - val_mae: 0.9066\n",
            "Epoch 44/100\n",
            "2250/2250 [==============================] - 6s 3ms/step - loss: 0.2505 - mae: 0.3667 - val_loss: 1.2407 - val_mae: 0.8860\n",
            "Epoch 45/100\n",
            "2250/2250 [==============================] - 6s 3ms/step - loss: 0.2483 - mae: 0.3638 - val_loss: 1.2405 - val_mae: 0.8854\n",
            "Epoch 46/100\n",
            "2250/2250 [==============================] - 6s 3ms/step - loss: 0.2447 - mae: 0.3608 - val_loss: 1.3308 - val_mae: 0.9237\n",
            "Epoch 47/100\n",
            "2250/2250 [==============================] - 6s 3ms/step - loss: 0.2422 - mae: 0.3593 - val_loss: 1.2397 - val_mae: 0.8846\n",
            "Epoch 48/100\n",
            "2250/2250 [==============================] - 6s 3ms/step - loss: 0.2391 - mae: 0.3559 - val_loss: 1.2489 - val_mae: 0.8905\n",
            "Epoch 49/100\n",
            "2250/2250 [==============================] - 6s 3ms/step - loss: 0.2374 - mae: 0.3549 - val_loss: 1.2867 - val_mae: 0.9033\n",
            "Epoch 50/100\n",
            "2250/2250 [==============================] - 6s 3ms/step - loss: 0.2351 - mae: 0.3525 - val_loss: 1.2650 - val_mae: 0.8954\n",
            "Epoch 51/100\n",
            "2250/2250 [==============================] - 6s 3ms/step - loss: 0.2312 - mae: 0.3488 - val_loss: 1.2590 - val_mae: 0.8954\n",
            "Epoch 52/100\n",
            "2250/2250 [==============================] - 6s 3ms/step - loss: 0.2302 - mae: 0.3480 - val_loss: 1.2793 - val_mae: 0.8999\n",
            "Epoch 53/100\n",
            "2250/2250 [==============================] - 7s 3ms/step - loss: 0.2274 - mae: 0.3463 - val_loss: 1.3391 - val_mae: 0.9252\n",
            "Epoch 54/100\n",
            "2250/2250 [==============================] - 7s 3ms/step - loss: 0.2248 - mae: 0.3432 - val_loss: 1.2715 - val_mae: 0.8963\n",
            "Epoch 55/100\n",
            "2250/2250 [==============================] - 7s 3ms/step - loss: 0.2235 - mae: 0.3418 - val_loss: 1.2597 - val_mae: 0.8904\n",
            "Epoch 56/100\n",
            "2250/2250 [==============================] - 6s 3ms/step - loss: 0.2204 - mae: 0.3389 - val_loss: 1.2587 - val_mae: 0.8898\n",
            "Epoch 57/100\n",
            "2250/2250 [==============================] - 6s 3ms/step - loss: 0.2201 - mae: 0.3385 - val_loss: 1.2646 - val_mae: 0.8916\n",
            "Epoch 58/100\n",
            "2250/2250 [==============================] - 6s 3ms/step - loss: 0.2175 - mae: 0.3360 - val_loss: 1.2685 - val_mae: 0.8928\n",
            "Epoch 59/100\n",
            "2250/2250 [==============================] - 6s 3ms/step - loss: 0.2157 - mae: 0.3347 - val_loss: 1.2874 - val_mae: 0.9032\n",
            "Epoch 60/100\n",
            "2250/2250 [==============================] - 6s 3ms/step - loss: 0.2141 - mae: 0.3338 - val_loss: 1.2866 - val_mae: 0.9032\n",
            "Epoch 61/100\n",
            "2250/2250 [==============================] - 7s 3ms/step - loss: 0.2119 - mae: 0.3320 - val_loss: 1.2731 - val_mae: 0.8961\n",
            "Epoch 62/100\n",
            "2250/2250 [==============================] - 6s 3ms/step - loss: 0.2114 - mae: 0.3310 - val_loss: 1.2928 - val_mae: 0.9062\n",
            "Epoch 63/100\n",
            "2250/2250 [==============================] - 6s 3ms/step - loss: 0.2092 - mae: 0.3294 - val_loss: 1.2929 - val_mae: 0.9046\n",
            "Epoch 64/100\n",
            "2250/2250 [==============================] - 6s 3ms/step - loss: 0.2086 - mae: 0.3283 - val_loss: 1.2620 - val_mae: 0.8893\n",
            "Epoch 65/100\n",
            "2250/2250 [==============================] - 7s 3ms/step - loss: 0.2065 - mae: 0.3263 - val_loss: 1.2561 - val_mae: 0.8883\n",
            "Epoch 66/100\n",
            "2250/2250 [==============================] - 7s 3ms/step - loss: 0.2043 - mae: 0.3247 - val_loss: 1.2544 - val_mae: 0.8881\n",
            "Epoch 67/100\n",
            "2250/2250 [==============================] - 6s 3ms/step - loss: 0.2048 - mae: 0.3249 - val_loss: 1.2749 - val_mae: 0.8969\n",
            "Epoch 68/100\n",
            "2250/2250 [==============================] - 6s 3ms/step - loss: 0.2023 - mae: 0.3226 - val_loss: 1.2304 - val_mae: 0.8763\n",
            "Epoch 69/100\n",
            "2250/2250 [==============================] - 7s 3ms/step - loss: 0.2010 - mae: 0.3213 - val_loss: 1.2434 - val_mae: 0.8836\n",
            "Epoch 70/100\n",
            "2250/2250 [==============================] - 6s 3ms/step - loss: 0.2002 - mae: 0.3203 - val_loss: 1.2609 - val_mae: 0.8905\n",
            "Epoch 71/100\n",
            "2250/2250 [==============================] - 6s 3ms/step - loss: 0.1992 - mae: 0.3193 - val_loss: 1.2473 - val_mae: 0.8870\n",
            "Epoch 72/100\n",
            "2250/2250 [==============================] - 7s 3ms/step - loss: 0.1970 - mae: 0.3172 - val_loss: 1.2478 - val_mae: 0.8842\n",
            "Epoch 73/100\n",
            "2250/2250 [==============================] - 7s 3ms/step - loss: 0.1962 - mae: 0.3160 - val_loss: 1.2992 - val_mae: 0.9087\n",
            "Epoch 74/100\n",
            "2250/2250 [==============================] - 7s 3ms/step - loss: 0.1952 - mae: 0.3155 - val_loss: 1.2436 - val_mae: 0.8852\n",
            "Epoch 75/100\n",
            "2250/2250 [==============================] - 7s 3ms/step - loss: 0.1938 - mae: 0.3145 - val_loss: 1.2513 - val_mae: 0.8857\n",
            "Epoch 76/100\n",
            "2250/2250 [==============================] - 6s 3ms/step - loss: 0.1932 - mae: 0.3135 - val_loss: 1.2201 - val_mae: 0.8711\n",
            "Epoch 77/100\n",
            "2250/2250 [==============================] - 7s 3ms/step - loss: 0.1920 - mae: 0.3125 - val_loss: 1.2595 - val_mae: 0.8932\n",
            "Epoch 78/100\n",
            "2250/2250 [==============================] - 7s 3ms/step - loss: 0.1918 - mae: 0.3116 - val_loss: 1.2368 - val_mae: 0.8797\n",
            "Epoch 79/100\n",
            "2250/2250 [==============================] - 6s 3ms/step - loss: 0.1898 - mae: 0.3100 - val_loss: 1.2402 - val_mae: 0.8829\n",
            "Epoch 80/100\n",
            "2250/2250 [==============================] - 6s 3ms/step - loss: 0.1898 - mae: 0.3094 - val_loss: 1.2776 - val_mae: 0.8976\n",
            "Epoch 81/100\n",
            "2250/2250 [==============================] - 7s 3ms/step - loss: 0.1881 - mae: 0.3085 - val_loss: 1.2414 - val_mae: 0.8812\n",
            "Epoch 82/100\n",
            "2250/2250 [==============================] - 7s 3ms/step - loss: 0.1872 - mae: 0.3073 - val_loss: 1.2494 - val_mae: 0.8878\n",
            "Epoch 83/100\n",
            "2250/2250 [==============================] - 7s 3ms/step - loss: 0.1865 - mae: 0.3072 - val_loss: 1.2688 - val_mae: 0.8949\n",
            "Epoch 84/100\n",
            "2250/2250 [==============================] - 7s 3ms/step - loss: 0.1852 - mae: 0.3060 - val_loss: 1.2943 - val_mae: 0.9025\n",
            "Epoch 85/100\n",
            "2250/2250 [==============================] - 7s 3ms/step - loss: 0.1850 - mae: 0.3054 - val_loss: 1.2531 - val_mae: 0.8869\n",
            "Epoch 86/100\n",
            "2250/2250 [==============================] - 7s 3ms/step - loss: 0.1838 - mae: 0.3042 - val_loss: 1.2460 - val_mae: 0.8843\n",
            "Epoch 87/100\n",
            "2250/2250 [==============================] - 7s 3ms/step - loss: 0.1839 - mae: 0.3038 - val_loss: 1.2756 - val_mae: 0.8963\n",
            "Epoch 88/100\n",
            "2250/2250 [==============================] - 7s 3ms/step - loss: 0.1827 - mae: 0.3028 - val_loss: 1.2555 - val_mae: 0.8864\n",
            "Epoch 89/100\n",
            "2250/2250 [==============================] - 7s 3ms/step - loss: 0.1814 - mae: 0.3017 - val_loss: 1.2851 - val_mae: 0.9003\n",
            "Epoch 90/100\n",
            "2250/2250 [==============================] - 7s 3ms/step - loss: 0.1807 - mae: 0.3008 - val_loss: 1.2428 - val_mae: 0.8807\n",
            "Epoch 91/100\n",
            "2250/2250 [==============================] - 6s 3ms/step - loss: 0.1798 - mae: 0.2996 - val_loss: 1.2721 - val_mae: 0.8914\n",
            "Epoch 92/100\n",
            "2250/2250 [==============================] - 7s 3ms/step - loss: 0.1798 - mae: 0.3005 - val_loss: 1.2794 - val_mae: 0.9003\n",
            "Epoch 93/100\n",
            "2250/2250 [==============================] - 7s 3ms/step - loss: 0.1786 - mae: 0.2983 - val_loss: 1.2444 - val_mae: 0.8810\n",
            "Epoch 94/100\n",
            "2250/2250 [==============================] - 7s 3ms/step - loss: 0.1782 - mae: 0.2986 - val_loss: 1.2443 - val_mae: 0.8828\n",
            "Epoch 95/100\n",
            "2250/2250 [==============================] - 6s 3ms/step - loss: 0.1773 - mae: 0.2980 - val_loss: 1.2756 - val_mae: 0.8951\n",
            "Epoch 96/100\n",
            "2250/2250 [==============================] - 7s 3ms/step - loss: 0.1759 - mae: 0.2963 - val_loss: 1.2944 - val_mae: 0.9033\n",
            "Epoch 97/100\n",
            "2250/2250 [==============================] - 6s 3ms/step - loss: 0.1761 - mae: 0.2966 - val_loss: 1.2575 - val_mae: 0.8875\n",
            "Epoch 98/100\n",
            "2250/2250 [==============================] - 6s 3ms/step - loss: 0.1760 - mae: 0.2968 - val_loss: 1.2476 - val_mae: 0.8827\n",
            "Epoch 99/100\n",
            "2250/2250 [==============================] - 6s 3ms/step - loss: 0.1744 - mae: 0.2943 - val_loss: 1.2501 - val_mae: 0.8859\n",
            "Epoch 100/100\n",
            "2250/2250 [==============================] - 6s 3ms/step - loss: 0.1737 - mae: 0.2936 - val_loss: 1.2784 - val_mae: 0.8963\n",
            "\n",
            "MAE deepFM = 1.01909833984375\n"
          ],
          "name": "stdout"
        }
      ]
    },
    {
      "cell_type": "code",
      "metadata": {
        "id": "1K8vRWn9O6yx",
        "colab_type": "code",
        "colab": {}
      },
      "source": [
        "def get_ncf_model_gen2(num_users, num_items, latent_dim, hidden_dim,do):\n",
        "    # Input variables\n",
        "    user_input = Input(shape=(1,), dtype='int32', name = 'user_input')\n",
        "    item_input = Input(shape=(1,), dtype='int32', name = 'item_input')\n",
        "    gender_input = Input(shape=(1,), dtype='float32', name = 'gender_input')\n",
        "    age_input = Input(shape=(1,), dtype='float32', name = 'age_input')\n",
        "\n",
        "    NCF_Embedding_User = Embedding(input_dim = num_users, output_dim = latent_dim, name = 'user_embedding', input_length=1)\n",
        "    NCF_Embedding_Item = Embedding(input_dim = num_items, output_dim = latent_dim, name = 'item_embedding', input_length=1)   \n",
        "    \n",
        "    # Crucial to flatten an embedding vector!\n",
        "    user_latent = Flatten()(NCF_Embedding_User(user_input))\n",
        "    item_latent = Flatten()(NCF_Embedding_Item(item_input))\n",
        "    \n",
        "    # Concat user and item embeddings with gender\n",
        "    conc = Concatenate()([user_latent, item_latent, gender_input, age_input])\n",
        "    drop = Dropout(0.3)(conc)\n",
        "    hid1 = Dense(hidden_dim, activation='relu')(conc)\n",
        "    drop2  = Dropout(do)(hid1)\n",
        "    hid2 = Dense(hidden_dim,activation='relu')(drop2)\n",
        "    drop3  = Dropout(do)(hid2)\n",
        "    prediction = Dense(1, activation='relu', kernel_initializer='lecun_uniform', name = 'prediction')(drop3)\n",
        "    \n",
        "    model = DeepFM(inputs=[user_input, item_input, gender_input, age_input], outputs=prediction)\n",
        "    print(\"ncf model gender 2\")\n",
        "    model.summary()\n",
        "\n",
        "    return model"
      ],
      "execution_count": 0,
      "outputs": []
    },
    {
      "cell_type": "code",
      "metadata": {
        "id": "aTGDbj8JQSEb",
        "colab_type": "code",
        "colab": {
          "base_uri": "https://localhost:8080/",
          "height": 333
        },
        "outputId": "261c7f24-f349-4742-dbf1-c18de9f41d5c"
      },
      "source": [
        "K_LATENT = 20\n",
        "hidden_dim = 20\n",
        "do = 0.5\n",
        "NCF_G_model2 = get_ncf_model_gen2(max_userid, max_movieid, K_LATENT, hidden_dim, do)\n",
        "NCF_G_model2.compile(loss='mse',optimizer=Adamax(),metrics=['mae'])"
      ],
      "execution_count": 60,
      "outputs": [
        {
          "output_type": "error",
          "ename": "TypeError",
          "evalue": "ignored",
          "traceback": [
            "\u001b[0;31m---------------------------------------------------------------------------\u001b[0m",
            "\u001b[0;31mTypeError\u001b[0m                                 Traceback (most recent call last)",
            "\u001b[0;32m<ipython-input-60-ba83d8a3336f>\u001b[0m in \u001b[0;36m<module>\u001b[0;34m()\u001b[0m\n\u001b[1;32m      2\u001b[0m \u001b[0mhidden_dim\u001b[0m \u001b[0;34m=\u001b[0m \u001b[0;36m20\u001b[0m\u001b[0;34m\u001b[0m\u001b[0;34m\u001b[0m\u001b[0m\n\u001b[1;32m      3\u001b[0m \u001b[0mdo\u001b[0m \u001b[0;34m=\u001b[0m \u001b[0;36m0.5\u001b[0m\u001b[0;34m\u001b[0m\u001b[0;34m\u001b[0m\u001b[0m\n\u001b[0;32m----> 4\u001b[0;31m \u001b[0mNCF_G_model2\u001b[0m \u001b[0;34m=\u001b[0m \u001b[0mget_ncf_model_gen2\u001b[0m\u001b[0;34m(\u001b[0m\u001b[0mmax_userid\u001b[0m\u001b[0;34m,\u001b[0m \u001b[0mmax_movieid\u001b[0m\u001b[0;34m,\u001b[0m \u001b[0mK_LATENT\u001b[0m\u001b[0;34m,\u001b[0m \u001b[0mhidden_dim\u001b[0m\u001b[0;34m,\u001b[0m \u001b[0mdo\u001b[0m\u001b[0;34m)\u001b[0m\u001b[0;34m\u001b[0m\u001b[0;34m\u001b[0m\u001b[0m\n\u001b[0m\u001b[1;32m      5\u001b[0m \u001b[0mNCF_G_model2\u001b[0m\u001b[0;34m.\u001b[0m\u001b[0mcompile\u001b[0m\u001b[0;34m(\u001b[0m\u001b[0mloss\u001b[0m\u001b[0;34m=\u001b[0m\u001b[0;34m'mse'\u001b[0m\u001b[0;34m,\u001b[0m\u001b[0moptimizer\u001b[0m\u001b[0;34m=\u001b[0m\u001b[0mAdamax\u001b[0m\u001b[0;34m(\u001b[0m\u001b[0;34m)\u001b[0m\u001b[0;34m,\u001b[0m\u001b[0mmetrics\u001b[0m\u001b[0;34m=\u001b[0m\u001b[0;34m[\u001b[0m\u001b[0;34m'mae'\u001b[0m\u001b[0;34m]\u001b[0m\u001b[0;34m)\u001b[0m\u001b[0;34m\u001b[0m\u001b[0;34m\u001b[0m\u001b[0m\n",
            "\u001b[0;32m<ipython-input-59-113e28701adb>\u001b[0m in \u001b[0;36mget_ncf_model_gen2\u001b[0;34m(num_users, num_items, latent_dim, hidden_dim, do)\u001b[0m\n\u001b[1;32m     22\u001b[0m     \u001b[0mprediction\u001b[0m \u001b[0;34m=\u001b[0m \u001b[0mDense\u001b[0m\u001b[0;34m(\u001b[0m\u001b[0;36m1\u001b[0m\u001b[0;34m,\u001b[0m \u001b[0mactivation\u001b[0m\u001b[0;34m=\u001b[0m\u001b[0;34m'relu'\u001b[0m\u001b[0;34m,\u001b[0m \u001b[0mkernel_initializer\u001b[0m\u001b[0;34m=\u001b[0m\u001b[0;34m'lecun_uniform'\u001b[0m\u001b[0;34m,\u001b[0m \u001b[0mname\u001b[0m \u001b[0;34m=\u001b[0m \u001b[0;34m'prediction'\u001b[0m\u001b[0;34m)\u001b[0m\u001b[0;34m(\u001b[0m\u001b[0mdrop3\u001b[0m\u001b[0;34m)\u001b[0m\u001b[0;34m\u001b[0m\u001b[0;34m\u001b[0m\u001b[0m\n\u001b[1;32m     23\u001b[0m \u001b[0;34m\u001b[0m\u001b[0m\n\u001b[0;32m---> 24\u001b[0;31m     \u001b[0mmodel\u001b[0m \u001b[0;34m=\u001b[0m \u001b[0mDeepFM\u001b[0m\u001b[0;34m(\u001b[0m\u001b[0minputs\u001b[0m\u001b[0;34m=\u001b[0m\u001b[0;34m[\u001b[0m\u001b[0muser_input\u001b[0m\u001b[0;34m,\u001b[0m \u001b[0mitem_input\u001b[0m\u001b[0;34m,\u001b[0m \u001b[0mgender_input\u001b[0m\u001b[0;34m,\u001b[0m \u001b[0mage_input\u001b[0m\u001b[0;34m]\u001b[0m\u001b[0;34m,\u001b[0m \u001b[0moutputs\u001b[0m\u001b[0;34m=\u001b[0m\u001b[0mprediction\u001b[0m\u001b[0;34m)\u001b[0m\u001b[0;34m\u001b[0m\u001b[0;34m\u001b[0m\u001b[0m\n\u001b[0m\u001b[1;32m     25\u001b[0m     \u001b[0mprint\u001b[0m\u001b[0;34m(\u001b[0m\u001b[0;34m\"ncf model gender 2\"\u001b[0m\u001b[0;34m)\u001b[0m\u001b[0;34m\u001b[0m\u001b[0;34m\u001b[0m\u001b[0m\n\u001b[1;32m     26\u001b[0m     \u001b[0mmodel\u001b[0m\u001b[0;34m.\u001b[0m\u001b[0msummary\u001b[0m\u001b[0;34m(\u001b[0m\u001b[0;34m)\u001b[0m\u001b[0;34m\u001b[0m\u001b[0;34m\u001b[0m\u001b[0m\n",
            "\u001b[0;31mTypeError\u001b[0m: DeepFM() got an unexpected keyword argument 'inputs'"
          ]
        }
      ]
    },
    {
      "cell_type": "code",
      "metadata": {
        "id": "tsRO55gEQx8y",
        "colab_type": "code",
        "colab": {}
      },
      "source": [
        "callbacks_ncfg2 = [EarlyStopping('val_loss', patience=20), \n",
        "             ModelCheckpoint(MODEL_WEIGHTS_FILE_CORE + '_ncfg_' + str(do)+'_' + str(K_LATENT) + '.h5', save_best_only=True)]\n",
        "history_history_ncfg2 = NCF_G_model2.fit([train_users, train_movies, train_gender, train_age], train_ratings, epochs=100, \n",
        "                                         validation_split=.1, verbose=1, callbacks=callbacks_ncfg2, batch_size = 32)"
      ],
      "execution_count": 0,
      "outputs": []
    },
    {
      "cell_type": "code",
      "metadata": {
        "id": "l-0DWGWMSzg_",
        "colab_type": "code",
        "colab": {
          "base_uri": "https://localhost:8080/",
          "height": 34
        },
        "outputId": "7f2b4792-8e3c-4b91-a8d9-92e92b9dee06"
      },
      "source": [
        "preddict_model_gen2 = NCF_G_model2.predict([test_users,test_movies, test_gender, test_age])\n",
        "test_predict2 = pd.DataFrame(data=preddict_model_gen2, columns=['prediction'])\n",
        "test_predict2['actual_rating'] = test_ratings\n",
        "\n",
        "MAE2 = np.sum(abs(test_predict2['actual_rating']-test_predict2['prediction']))/test_predict2.shape[0]\n",
        "print(\"MAE = \"+ str(MAE2))"
      ],
      "execution_count": 46,
      "outputs": [
        {
          "output_type": "stream",
          "text": [
            "MAE = 0.7457966796875\n"
          ],
          "name": "stdout"
        }
      ]
    }
  ]
}